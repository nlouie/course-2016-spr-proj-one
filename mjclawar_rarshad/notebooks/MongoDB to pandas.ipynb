{
 "cells": [
  {
   "cell_type": "code",
   "execution_count": 91,
   "metadata": {
    "collapsed": false,
    "scrolled": true
   },
   "outputs": [
    {
     "name": "stdout",
     "output_type": "stream",
     "text": [
      "C:\\Users\\Michael\\Documents\\Boston University\\2016 - Spring\\CS 591\\course-2016-spr-proj-one\n"
     ]
    }
   ],
   "source": [
    "%cd 'C:\\\\Users\\\\Michael\\\\Documents\\\\Boston University\\\\2016 - Spring\\\\CS 591\\\\course-2016-spr-proj-one'\n",
    "%matplotlib inline"
   ]
  },
  {
   "cell_type": "code",
   "execution_count": 3,
   "metadata": {
    "collapsed": true
   },
   "outputs": [],
   "source": [
    "import pandas\n",
    "from mjclawar_rarshad.tools import pandas_funcs"
   ]
  },
  {
   "cell_type": "code",
   "execution_count": 127,
   "metadata": {
    "collapsed": true
   },
   "outputs": [],
   "source": [
    "import json\n",
    "import pymongo\n",
    "import numpy as np\n",
    "import pandas\n",
    "\n",
    "from mjclawar_rarshad.sources import crime, property_assessment, boston_public_schools, hospital_locations\n",
    "from mjclawar_rarshad.tools import bdp_query, database_helpers, pandas_funcs\n",
    "\n",
    "from sklearn import cluster\n",
    "import matplotlib.pyplot as plt\n",
    "\n",
    "from scipy.spatial.distance import cdist"
   ]
  },
  {
   "cell_type": "code",
   "execution_count": 6,
   "metadata": {
    "collapsed": false
   },
   "outputs": [],
   "source": [
    "exec(open('pymongo_dm.py').read())"
   ]
  },
  {
   "cell_type": "code",
   "execution_count": 9,
   "metadata": {
    "collapsed": false
   },
   "outputs": [],
   "source": [
    "with open('mjclawar_rarshad/auth.json', 'r') as f:\n",
    "    auth_json = json.load(f)\n",
    "    api_token = auth_json['api_token']\n",
    "    username = auth_json['username']\n",
    "    mongo_pass = auth_json['pass']\n",
    "\n",
    "database_helper = database_helpers.DatabaseHelper(username=username, password=mongo_pass)\n",
    "bdp_api = bdp_query.BDPQuery(api_token=api_token)"
   ]
  },
  {
   "cell_type": "code",
   "execution_count": 87,
   "metadata": {
    "collapsed": false
   },
   "outputs": [],
   "source": [
    "df = pandas_funcs.read_mongo_collection('mjclawar_rarshad.crime_incidents', database_helper)"
   ]
  },
  {
   "cell_type": "code",
   "execution_count": 88,
   "metadata": {
    "collapsed": false
   },
   "outputs": [
    {
     "data": {
      "text/html": [
       "<div>\n",
       "<table border=\"1\" class=\"dataframe\">\n",
       "  <thead>\n",
       "    <tr style=\"text-align: right;\">\n",
       "      <th></th>\n",
       "      <th>_id</th>\n",
       "      <th>day_week</th>\n",
       "      <th>domestic</th>\n",
       "      <th>fromdate</th>\n",
       "      <th>location</th>\n",
       "      <th>month</th>\n",
       "      <th>naturecode</th>\n",
       "      <th>shooting</th>\n",
       "      <th>weapontype</th>\n",
       "      <th>year</th>\n",
       "    </tr>\n",
       "  </thead>\n",
       "  <tbody>\n",
       "    <tr>\n",
       "      <th>0</th>\n",
       "      <td>56c11e4cd2230fbde4f27a64</td>\n",
       "      <td>Monday</td>\n",
       "      <td>No</td>\n",
       "      <td>2015-08-10T05:20:00</td>\n",
       "      <td>{'needs_recoding': False, 'longitude': '0.0', ...</td>\n",
       "      <td>8</td>\n",
       "      <td>MVA</td>\n",
       "      <td>No</td>\n",
       "      <td>None</td>\n",
       "      <td>2015</td>\n",
       "    </tr>\n",
       "    <tr>\n",
       "      <th>1</th>\n",
       "      <td>56c11e4cd2230fbde4f27a65</td>\n",
       "      <td>Monday</td>\n",
       "      <td>No</td>\n",
       "      <td>2015-08-10T05:01:00</td>\n",
       "      <td>{'needs_recoding': False, 'longitude': '0.0', ...</td>\n",
       "      <td>8</td>\n",
       "      <td>CD19</td>\n",
       "      <td>No</td>\n",
       "      <td>None</td>\n",
       "      <td>2015</td>\n",
       "    </tr>\n",
       "    <tr>\n",
       "      <th>2</th>\n",
       "      <td>56c11e4cd2230fbde4f27a66</td>\n",
       "      <td>Monday</td>\n",
       "      <td>No</td>\n",
       "      <td>2015-08-10T04:48:00</td>\n",
       "      <td>{'needs_recoding': False, 'longitude': '0.0', ...</td>\n",
       "      <td>8</td>\n",
       "      <td>MVA</td>\n",
       "      <td>No</td>\n",
       "      <td>None</td>\n",
       "      <td>2015</td>\n",
       "    </tr>\n",
       "    <tr>\n",
       "      <th>3</th>\n",
       "      <td>56c11e4cd2230fbde4f27a67</td>\n",
       "      <td>Monday</td>\n",
       "      <td>No</td>\n",
       "      <td>2015-08-10T04:46:00</td>\n",
       "      <td>{'needs_recoding': False, 'longitude': '0.0', ...</td>\n",
       "      <td>8</td>\n",
       "      <td>ARREST</td>\n",
       "      <td>No</td>\n",
       "      <td>None</td>\n",
       "      <td>2015</td>\n",
       "    </tr>\n",
       "    <tr>\n",
       "      <th>4</th>\n",
       "      <td>56c11e4cd2230fbde4f27a68</td>\n",
       "      <td>Monday</td>\n",
       "      <td>No</td>\n",
       "      <td>2015-08-10T02:38:00</td>\n",
       "      <td>{'needs_recoding': False, 'longitude': '0.0', ...</td>\n",
       "      <td>8</td>\n",
       "      <td>MVA</td>\n",
       "      <td>No</td>\n",
       "      <td>None</td>\n",
       "      <td>2015</td>\n",
       "    </tr>\n",
       "  </tbody>\n",
       "</table>\n",
       "</div>"
      ],
      "text/plain": [
       "                        _id day_week domestic             fromdate  \\\n",
       "0  56c11e4cd2230fbde4f27a64   Monday       No  2015-08-10T05:20:00   \n",
       "1  56c11e4cd2230fbde4f27a65   Monday       No  2015-08-10T05:01:00   \n",
       "2  56c11e4cd2230fbde4f27a66   Monday       No  2015-08-10T04:48:00   \n",
       "3  56c11e4cd2230fbde4f27a67   Monday       No  2015-08-10T04:46:00   \n",
       "4  56c11e4cd2230fbde4f27a68   Monday       No  2015-08-10T02:38:00   \n",
       "\n",
       "                                            location month naturecode  \\\n",
       "0  {'needs_recoding': False, 'longitude': '0.0', ...     8        MVA   \n",
       "1  {'needs_recoding': False, 'longitude': '0.0', ...     8       CD19   \n",
       "2  {'needs_recoding': False, 'longitude': '0.0', ...     8        MVA   \n",
       "3  {'needs_recoding': False, 'longitude': '0.0', ...     8     ARREST   \n",
       "4  {'needs_recoding': False, 'longitude': '0.0', ...     8        MVA   \n",
       "\n",
       "  shooting weapontype  year  \n",
       "0       No       None  2015  \n",
       "1       No       None  2015  \n",
       "2       No       None  2015  \n",
       "3       No       None  2015  \n",
       "4       No       None  2015  "
      ]
     },
     "execution_count": 88,
     "metadata": {},
     "output_type": "execute_result"
    }
   ],
   "source": [
    "df.head()"
   ]
  },
  {
   "cell_type": "code",
   "execution_count": 89,
   "metadata": {
    "collapsed": false
   },
   "outputs": [],
   "source": [
    "df = df.merge(df['location'].apply(lambda x: pandas.Series({'NEEDS_RECODE': x['needs_recoding'], 'LONGITUDE': float(x['longitude']), 'LATITUDE': float(x['latitude'])})), \n",
    "    left_index=True, right_index=True)"
   ]
  },
  {
   "cell_type": "code",
   "execution_count": null,
   "metadata": {
    "collapsed": true
   },
   "outputs": [],
   "source": []
  },
  {
   "cell_type": "code",
   "execution_count": 170,
   "metadata": {
    "collapsed": true
   },
   "outputs": [],
   "source": [
    "def spherical_dist(pos1, pos2, r=3958.75):\n",
    "    pos1 = pos1 * np.pi / 180\n",
    "    pos2 = pos2 * np.pi / 180\n",
    "    cos_lat1 = np.cos(pos1[..., 0])\n",
    "    cos_lat2 = np.cos(pos2[..., 0])\n",
    "    cos_lat_d = np.cos(pos1[..., 0] - pos2[..., 0])\n",
    "    cos_lon_d = np.cos(pos1[..., 1] - pos2[..., 1])\n",
    "    return r * np.arccos(cos_lat_d - cos_lat1 * cos_lat2 * (1 - cos_lon_d))"
   ]
  },
  {
   "cell_type": "code",
   "execution_count": 171,
   "metadata": {
    "collapsed": false
   },
   "outputs": [],
   "source": [
    "def sse_group (df):\n",
    "    sse = np.sum(spherical_dist(df[['LONGITUDE', 'LATITUDE']].values, np.array([df[['LONGITUDE', 'LATITUDE']].mean().values])) ** 2)\n",
    "    return sse"
   ]
  },
  {
   "cell_type": "code",
   "execution_count": 176,
   "metadata": {
    "collapsed": false
   },
   "outputs": [
    {
     "name": "stdout",
     "output_type": "stream",
     "text": [
      "1094.26697453 nan 3106.44449817\n",
      "414.465259148 -0.621239360416 1299.94565759\n",
      "3\n",
      "[1 2 0 2 2 2 1 2 2 2 2 2 2 0 2 2 1 1 0 0 2 2 2 0 2 0 0 1 2 1 2 0 0 2 2 2 1\n",
      " 0 0 2 1 2 2 2 0 0 2 2 0 0 1 1 2 0 0 2 2 2 2 2 2 2 2 2 1 2 1 1 1 0 2 2 2 2\n",
      " 2 1 0 0 0 0 1 0 0 0 0 0 2 1 2 2 2 2 1 2 0 0 2 2 1 2 2 2 2 2 1 1 0 2 0 1 2\n",
      " 2 0 2 0 2 2 0 1 0 0 0 2 2 1 1 0 0 2 2 2 2 2 1 2 0 2 1 2 0 0 2 2 0 2 2 2 2\n",
      " 0 0 2 1 0 0 1 0 0 2 2 0 1 2 0 1 1 2 0 0 1 2 0 2 0 1 0 1 1 0 2 0 2 0 2 0 0\n",
      " 2 2 1 2 0 1 2 0 2 0 1 0 0 0 2 2 2 0 1 0 0 1 1 2 0 2 0 0 0 0 2 0 0 0 1 0 2\n",
      " 2 0 2 0 2 2 0 0 2 0 0 0 2 2 0 1 2 2 0 1 2 0 2 1 1 2 0 2 0 1 1 2 0 2 0 2 2\n",
      " 2 2 0 2 2 2 0 1 0 2 2 2 1 2 1 1 2 1 0 0 2 0 2 1 1 2 1 2 0 0 0 0 2 1 0 0 2\n",
      " 2 0 0 2 0 2 2 2 0 0 0 2 1 1 1 0 1 1 0 2 0 2 2 2 0 2 0 1 2 2 2 2 0 0 1 2 2\n",
      " 0 2 2 1 1 1 0 1 2 2 1 1 1 0 0 2 0 2 0 2 2 0 0 1 1 2 1 2 0 1 0 1 0 0 0 2 2\n",
      " 2 1 0 2 0 2 0 0 2 1 0 2 0 1 2 0 2 0 0 0 1 0 1 1 0 1 0 0 1 0 2 2 1 1 0 1 0\n",
      " 2 2 2 1 1 2 0 0 2 0 2 2 2 1 2 2 2 0 0 1 1 0 2 1 2 2 1 2 0 0 2 0 0 0 2 0 1\n",
      " 2 2 2 0 2 2 0 1 1 2 1 2 0 2 1 0 2 2 2 2 0 0 1 1 2 1 0 2 2 1 2 2 0 1 1 2 2\n",
      " 2 2 2 0 0 2 0 2 2 0 1 2 2 1 2 2 0 0 0 1 1 2 0 1 2 2 2 0 2 1 1 0 1 2 2 2 1\n",
      " 2 2 1 2 2 2 0 0 0 0 1 2 2 0 0 0 0 0 2 2 2 2 2 1 2 2 2 2 0 1 2 0 2 1 0 0 1\n",
      " 0 0 0 0 1 0 2 0 2 0 2 2 2 1 2 0 0 0 0 2 0 0 2 0 0 2 2 0 2 0 2 2 0 1 1 0 0\n",
      " 2 2 2 0 0 0 1 2 2 2 2 1 2 0 2 0 0 0 0 1 0 0 2 0 0 2 2 2 1 0 0 2 2 0 2 1 0\n",
      " 0 0 2 0 2 2 0 0 2 0 2 1 0 0 0 0 2 2 0 0 0 0 0 1 2 0 2 0 2 2 0 2 2 0 1 0 2\n",
      " 0 2 2 1 1 0 2 2 2 2 2 1 0 1 2 0 0 0 2 0 1 2 1 2 0 0 0 2 2 2 0 2 2 1 2 2 2\n",
      " 1 2 2 0 0 1 2 2 0 0 2 2 0 0 2 2 1 1 2 0 2 2 2 2 2 2 0 0 0 1 2 0 2 2 2 1 2\n",
      " 2 0 0 2 2 1 2 0 2 2 2 2 0 2 2 2 2 1 2 0 1 0 1 2 2 1 2 0 0 1 2 2 2 1 0 2 2\n",
      " 2 0 1 1 1 2 2 0 0 2 2]\n"
     ]
    }
   ],
   "source": [
    "# Initialize KMeans object with k clusters\n",
    "k_range = range(2, 15)\n",
    "\n",
    "df_temp = df[df['LONGITUDE'] != 0]\n",
    "n = len(df_temp)\n",
    "bic_last = -np.inf\n",
    "\n",
    "for k in k_range:\n",
    "    clust = cluster.KMeans(n_clusters=k, random_state=1)\n",
    "    preds = clust.fit_predict(df_temp[['LONGITUDE', 'LATITUDE']])\n",
    "    clust_centers = clust.cluster_centers_\n",
    "    sse = df_temp[['LONGITUDE', 'LATITUDE']].groupby(preds).apply(sse_group).sum()\n",
    "    bic = n * np.log(sse / n) + k * np.log(n)\n",
    "    pct_improve = (bic - bic_last) / bic_last\n",
    "    print(bic, pct_improve, sse)\n",
    "    if pct_improve < .01:\n",
    "        print(k)\n",
    "        break\n",
    "    bic_last = bic\n",
    "\n",
    "print(preds)"
   ]
  },
  {
   "cell_type": "code",
   "execution_count": 175,
   "metadata": {
    "collapsed": false
   },
   "outputs": [
    {
     "data": {
      "text/plain": [
       "<matplotlib.collections.PathCollection at 0xd1e0780>"
      ]
     },
     "execution_count": 175,
     "metadata": {},
     "output_type": "execute_result"
    },
    {
     "data": {
      "image/png": "[encoded data removed]",
      "text/plain": [
       "<matplotlib.figure.Figure at 0x5cb17f0>"
      ]
     },
     "metadata": {},
     "output_type": "display_data"
    }
   ],
   "source": [
    "plt.scatter(df_temp['LONGITUDE'], df_temp['LATITUDE'], c=preds)"
   ]
  },
  {
   "cell_type": "code",
   "execution_count": 50,
   "metadata": {
    "collapsed": false
   },
   "outputs": [
    {
     "data": {
      "text/plain": [
       "KMeans(copy_x=True, init='k-means++', max_iter=300, n_clusters=8, n_init=10,\n",
       "    n_jobs=1, precompute_distances='auto', random_state=None, tol=0.0001,\n",
       "    verbose=0)"
      ]
     },
     "execution_count": 50,
     "metadata": {},
     "output_type": "execute_result"
    }
   ],
   "source": [
    "clust.fit(df[['av_total', 'living_area']].astype(np.float64).dropna())"
   ]
  },
  {
   "cell_type": "code",
   "execution_count": 52,
   "metadata": {
    "collapsed": false
   },
   "outputs": [
    {
     "data": {
      "text/plain": [
       "array([5, 5, 5, 1, 1, 5, 1, 5, 5, 1, 5, 7, 7, 7, 0, 7, 7, 7, 0, 5, 5, 7, 7,\n",
       "       7, 0, 5, 5, 5, 7, 7, 7, 0, 5, 5, 0, 5, 7, 7, 7, 0, 1, 1, 1, 7, 7, 7,\n",
       "       7, 7, 7, 0, 1, 5, 7, 7, 7, 0, 5, 1, 5, 5, 1, 1, 5, 1, 1, 1, 0, 0, 7,\n",
       "       7, 7, 0, 7, 7, 7, 0, 5, 1, 1, 0, 0, 6, 3, 2, 0, 1, 5, 5, 1, 5, 5, 5,\n",
       "       7, 7, 7, 7, 7, 7, 7, 7, 7, 7, 7, 7, 7, 7, 7, 7, 7, 7, 7, 7, 7, 7, 7,\n",
       "       0, 7, 7, 7, 0, 5, 5, 5, 5, 5, 5, 5, 3, 6, 7, 1, 1, 1, 1, 1, 1, 7, 7,\n",
       "       0, 1, 7, 5, 7, 1, 1, 7, 1, 1, 5, 1, 1, 1, 0, 1, 5, 1, 1, 0, 0, 5, 1,\n",
       "       1, 0, 7, 7, 7, 0, 1, 0, 0, 0, 0, 1, 1, 1, 1, 5, 1, 1, 1, 1, 1, 1, 1,\n",
       "       0, 7, 1, 1, 5, 6, 1, 1, 1, 1, 1, 7, 7, 7, 0, 1, 1, 1, 1, 5, 1, 5, 5,\n",
       "       5, 1, 1, 1, 5, 1, 7, 1, 1, 7, 1, 1, 5, 1, 1, 1, 0, 5, 5, 1, 5, 1, 1,\n",
       "       7, 1, 1, 7, 1, 1, 1, 1, 7, 7, 7, 0, 1, 1, 6, 5, 1, 5, 5, 7, 7, 7, 0,\n",
       "       5, 1, 5, 5, 1, 5, 1, 1, 5, 5, 0, 0, 1, 7, 7, 7, 0, 7, 7, 7, 0, 3, 6,\n",
       "       5, 5, 5, 5, 7, 7, 7, 0, 7, 7, 7, 0, 5, 6, 1, 1, 1, 0, 1, 1, 1, 0, 5,\n",
       "       1, 1, 1, 0, 5, 5, 5, 5, 1, 1, 7, 7, 1, 7, 7, 0, 1, 7, 7, 7, 0, 5, 1,\n",
       "       5, 7, 7, 7, 0, 1, 7, 7, 7, 0, 5, 1, 5, 1, 1, 1, 7, 0, 1, 5, 1, 5, 1,\n",
       "       1, 5, 5, 7, 7, 7, 7, 7, 7, 7, 1, 1, 0, 5, 5, 7, 7, 7, 0, 5, 5, 5, 1,\n",
       "       1, 1, 1, 1, 5, 7, 7, 7, 0, 5, 5, 6, 5, 5, 5, 5, 5, 7, 5, 1, 1, 6, 1,\n",
       "       1, 1, 6, 5, 5, 1, 1, 1, 7, 1, 1, 1, 5, 5, 5, 1, 1, 1, 5, 1, 1, 7, 7,\n",
       "       0, 5, 1, 0, 1, 7, 7, 7, 0, 1, 7, 7, 7, 0, 5, 7, 7, 7, 0, 5, 5, 1, 5,\n",
       "       1, 5, 7, 7, 7, 0, 5, 0, 7, 7, 7, 0, 1, 5, 1, 1, 5, 1, 1, 7, 7, 7, 0,\n",
       "       5, 5, 5, 5, 1, 5, 1, 1, 1, 7, 7, 7, 0, 5, 1, 1, 7, 1, 7, 1, 1, 5, 5,\n",
       "       1, 5, 5, 5, 1, 7, 7, 7, 0, 1, 0, 1, 0, 1, 5, 1, 1, 1, 5, 5, 5, 1, 1,\n",
       "       7, 7, 7, 7, 0, 1, 7, 7, 7, 0, 7, 7, 7, 0, 7, 7, 7, 0, 5, 5, 5, 1, 1,\n",
       "       1, 7, 7, 7, 0, 1, 5, 1, 1, 5, 1, 1, 5, 5, 7, 7, 7, 0, 1, 5, 7, 7, 7,\n",
       "       0, 5, 5, 5, 0, 1, 7, 7, 0, 5, 5, 1, 1, 1, 1, 1, 5, 1, 5, 4, 0, 7, 7,\n",
       "       7, 0, 5, 7, 7, 7, 0, 7, 7, 7, 0, 1, 1, 1, 1, 1, 1, 5, 7, 7, 7, 0, 5,\n",
       "       5, 5, 1, 5, 1, 1, 5, 5, 1, 5, 7, 7, 1, 0, 1, 5, 5, 5, 5, 1, 5, 5, 5,\n",
       "       5, 5, 1, 0, 5, 7, 7, 7, 0, 5, 1, 5, 1, 1, 5, 1, 5, 5, 0, 7, 7, 7, 0,\n",
       "       5, 5, 1, 1, 1, 5, 0, 1, 1, 1, 1, 5, 1, 5, 5, 5, 1, 5, 1, 5, 1, 1, 1,\n",
       "       1, 5, 5, 7, 7, 7, 0, 5, 5, 5, 5, 7, 7, 7, 0, 1, 7, 7, 7, 0, 1, 1, 1,\n",
       "       5, 1, 7, 7, 7, 0, 1, 5, 5, 5, 5, 5, 5, 0, 5, 1, 5, 5, 7, 7, 7, 0, 5,\n",
       "       2, 2, 2, 3, 3, 1, 5, 1, 7, 7, 7, 7, 0, 1, 1, 1, 1, 3, 3, 0, 1, 1, 1,\n",
       "       0, 5, 5, 1, 5, 5, 5, 5, 0, 0, 5, 1, 1, 1, 1, 1, 1, 5, 5, 5, 5, 1, 1,\n",
       "       5, 5, 5, 5, 7, 7, 7, 1, 5, 5, 5, 0, 0, 7, 5, 1, 0, 7, 7, 6, 1, 7, 6,\n",
       "       5, 6, 3, 6, 7, 7, 7, 5, 5, 5, 0, 7, 7, 7, 0, 5, 7, 7, 1, 0, 7, 7, 7,\n",
       "       7, 0, 7, 7, 7, 7, 7, 7, 0, 7, 7, 7, 7, 0, 5, 5, 5, 1, 7, 7, 7, 0, 1,\n",
       "       1, 1, 1, 7, 0, 7, 7, 7, 0, 1, 1, 1, 5, 7, 1, 0, 0, 1, 1, 1, 5, 1, 1,\n",
       "       7, 7, 7, 0, 7, 7, 7, 0, 5, 5, 1, 1, 6, 7, 7, 6, 0, 0, 7, 7, 7, 7, 1,\n",
       "       7, 7, 1, 7, 7, 0, 1, 5, 7, 7, 7, 0, 1, 1, 0, 5, 1, 1, 1, 0, 5, 5, 5,\n",
       "       1, 7, 0, 5, 1, 5, 7, 7, 7, 0, 7, 5, 5, 5, 7, 7, 7, 0, 5, 5, 5, 5, 5,\n",
       "       5, 1, 0, 5, 1, 0, 7, 7, 7, 0, 5, 1, 5, 5, 1, 1, 5, 7, 7, 7, 0, 1, 1,\n",
       "       1, 1, 0, 1, 7, 7, 7, 0, 5, 5, 5, 5, 1, 7, 7, 0, 5, 5, 5, 1, 0, 0, 5,\n",
       "       0, 5, 3, 3, 3, 2, 5, 1, 5, 5, 5, 5, 1, 1, 7, 7, 7, 0, 5, 1, 5, 1, 5,\n",
       "       5, 0, 5, 1, 5])"
      ]
     },
     "execution_count": 52,
     "metadata": {},
     "output_type": "execute_result"
    }
   ],
   "source": [
    "clust.predict(df[['av_total', 'living_area']].astype(np.float64).dropna())"
   ]
  },
  {
   "cell_type": "code",
   "execution_count": null,
   "metadata": {
    "collapsed": true
   },
   "outputs": [],
   "source": []
  }
 ],
 "metadata": {
  "kernelspec": {
   "display_name": "Python 3",
   "language": "python",
   "name": "python3"
  },
  "language_info": {
   "codemirror_mode": {
    "name": "ipython",
    "version": 3
   },
   "file_extension": ".py",
   "mimetype": "text/x-python",
   "name": "python",
   "nbconvert_exporter": "python",
   "pygments_lexer": "ipython3",
   "version": "3.4.3"
  }
 },
 "nbformat": 4,
 "nbformat_minor": 0
}
